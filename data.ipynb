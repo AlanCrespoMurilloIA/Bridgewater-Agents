{
 "cells": [
  {
   "cell_type": "code",
   "execution_count": 3,
   "id": "460971fa",
   "metadata": {},
   "outputs": [],
   "source": [
    "\n",
    "API_KEY = \"CG-Hv2ecTjD5Pz6P1XURRje2kvA\""
   ]
  },
  {
   "cell_type": "code",
   "execution_count": 5,
   "id": "0f060882",
   "metadata": {},
   "outputs": [
    {
     "name": "stdout",
     "output_type": "stream",
     "text": [
      "✅ total_mcap.csv (2784 filas)  2018-01-01 00:00:00 → 2025-08-15 00:00:00\n",
      "✅ btc_dominance.csv (2784 filas)  2018-01-01 00:00:00 → 2025-08-15 00:00:00\n",
      "✅ stablecoin_supply.csv (2784 filas)  2018-01-01 00:00:00 → 2025-08-15 00:00:00\n",
      "✅ fear_greed.csv (2749 filas)  2018-02-01 00:00:00 → 2025-08-15 00:00:00\n"
     ]
    },
    {
     "name": "stderr",
     "output_type": "stream",
     "text": [
      "/tmp/ipykernel_11603/135660624.py:74: FutureWarning: The behavior of 'to_datetime' with 'unit' when parsing strings is deprecated. In a future version, strings will be parsed as datetime strings, matching the behavior without a 'unit'. To retain the old behavior, explicitly cast ints or floats to numeric type before calling to_datetime.\n",
      "  df_fng[\"Date\"] = pd.to_datetime(df_fng[\"timestamp\"], unit=\"s\", utc=True).dt.tz_convert(None)\n"
     ]
    }
   ],
   "source": [
    "import os\n",
    "import requests\n",
    "import pandas as pd\n",
    "from datetime import datetime, timezone\n",
    "\n",
    "# =========================\n",
    "# CONFIGURACIÓN\n",
    "# =========================\n",
    "#API_KEY = os.getenv(\"COINGECKO_API_KEY\") dejalo comentado por que esta declarado arriba\n",
    "BASE_URL = \"https://pro-api.coingecko.com/api/v3\"\n",
    "HEADERS = {\"accept\": \"application/json\", \"x-cg-pro-api-key\": API_KEY}\n",
    "\n",
    "START_DATE = pd.Timestamp(\"2018-01-01\")  # ahora como Timestamp\n",
    "\n",
    "OUT_BTC_DOM   = \"btc_dominance.csv\"\n",
    "OUT_TOTAL_MC  = \"total_mcap.csv\"\n",
    "OUT_STABLECAP = \"stablecoin_supply.csv\"\n",
    "OUT_FNG       = \"fear_greed.csv\"\n",
    "\n",
    "# =========================\n",
    "# FUNCIONES AUXILIARES\n",
    "# =========================\n",
    "def save_series(series: pd.Series, path: str):\n",
    "    series.index = pd.to_datetime(series.index)  # aseguramos tipo datetime\n",
    "    df = series.reset_index()\n",
    "    df.columns = [\"Date\", \"value\"]\n",
    "    df = df[df[\"Date\"] >= START_DATE]  # filtramos correctamente\n",
    "    df.to_csv(path, index=False)\n",
    "    print(f\"✅ {path} ({len(df)} filas)  {df['Date'].min()} → {df['Date'].max()}\")\n",
    "\n",
    "def get_json(endpoint, params=None):\n",
    "    url = f\"{BASE_URL}{endpoint}\"\n",
    "    r = requests.get(url, headers=HEADERS, params=params, timeout=60)\n",
    "    r.raise_for_status()\n",
    "    return r.json()\n",
    "\n",
    "def pairs_to_series(pairs):\n",
    "    return pd.Series({\n",
    "        datetime.fromtimestamp(ts/1000, tz=timezone.utc).date(): val\n",
    "        for ts, val in pairs\n",
    "    }).sort_index()\n",
    "\n",
    "# =========================\n",
    "# 1) TOTAL MARKET CAP\n",
    "# =========================\n",
    "j = get_json(\"/global/market_cap_chart\", params={\"vs_currency\": \"usd\", \"days\": \"max\"})\n",
    "pairs = j.get(\"market_cap_chart\", {}).get(\"market_cap\") or j.get(\"market_cap\")\n",
    "total_cap = pairs_to_series(pairs).asfreq(\"D\").ffill()\n",
    "save_series(total_cap, OUT_TOTAL_MC)\n",
    "\n",
    "# =========================\n",
    "# 2) BTC DOMINANCE\n",
    "# =========================\n",
    "btc_data = get_json(\"/coins/bitcoin/market_chart\", params={\"vs_currency\": \"usd\", \"days\": \"max\"})\n",
    "btc_cap = pairs_to_series(btc_data[\"market_caps\"]).asfreq(\"D\").ffill()\n",
    "btc_dom = (btc_cap / total_cap) * 100\n",
    "save_series(btc_dom, OUT_BTC_DOM)\n",
    "\n",
    "# =========================\n",
    "# 3) STABLECOIN SUPPLY (USDT)\n",
    "# =========================\n",
    "usdt_data = get_json(\"/coins/tether/market_chart\", params={\"vs_currency\": \"usd\", \"days\": \"max\"})\n",
    "usdt_cap = pairs_to_series(usdt_data[\"market_caps\"]).asfreq(\"D\").ffill()\n",
    "save_series(usdt_cap, OUT_STABLECAP)\n",
    "\n",
    "# =========================\n",
    "# 4) FEAR & GREED (Alternative.me)\n",
    "# =========================\n",
    "fng_url = \"https://api.alternative.me/fng/?limit=0&format=json\"\n",
    "r = requests.get(fng_url, timeout=60)\n",
    "r.raise_for_status()\n",
    "j = r.json()\n",
    "df_fng = pd.DataFrame(j[\"data\"])\n",
    "df_fng[\"Date\"] = pd.to_datetime(df_fng[\"timestamp\"], unit=\"s\", utc=True).dt.tz_convert(None)\n",
    "fear_greed = df_fng.groupby(\"Date\")[\"value\"].last().astype(float).sort_index()\n",
    "save_series(fear_greed, OUT_FNG)\n"
   ]
  }
 ],
 "metadata": {
  "kernelspec": {
   "display_name": ".venv",
   "language": "python",
   "name": "python3"
  },
  "language_info": {
   "codemirror_mode": {
    "name": "ipython",
    "version": 3
   },
   "file_extension": ".py",
   "mimetype": "text/x-python",
   "name": "python",
   "nbconvert_exporter": "python",
   "pygments_lexer": "ipython3",
   "version": "3.13.3"
  }
 },
 "nbformat": 4,
 "nbformat_minor": 5
}
